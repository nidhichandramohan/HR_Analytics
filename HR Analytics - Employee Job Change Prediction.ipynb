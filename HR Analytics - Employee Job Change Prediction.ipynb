{
 "cells": [
  {
   "cell_type": "markdown",
   "id": "945d9217",
   "metadata": {},
   "source": [
    "## HR ANALYTICS : EMPLOYEE JOB CHANGE PREDICTION\n",
    "#### AUTHOR : NIDHI CHANDRAMOHAN\n",
    "#### CREATED : 25-SEP-2021\n",
    "#### LAST UPDATED : 27-Feb-2022\n",
    "\n",
    "#### PROJECT GOAL : PREDICT WHETHER EMPLOYEES WILL CHANGE JOB BASED ON INTERNAL TRAINING GIVEN BY COMPANY\n",
    "\n",
    "#### Source : Kaggle"
   ]
  },
  {
   "cell_type": "markdown",
   "id": "495d0eb0",
   "metadata": {},
   "source": [
    "### IMPORT REQUIRED PACKAGES"
   ]
  },
  {
   "cell_type": "code",
   "execution_count": 1,
   "id": "eb7535af",
   "metadata": {},
   "outputs": [],
   "source": [
    "import pandas as pd\n",
    "import numpy as np\n",
    "import seaborn as sns\n",
    "import matplotlib.pyplot as plt"
   ]
  },
  {
   "cell_type": "markdown",
   "id": "b15b9d89",
   "metadata": {},
   "source": [
    "### READ DATA FROM CSV FILE"
   ]
  },
  {
   "cell_type": "code",
   "execution_count": 2,
   "id": "bac870e5",
   "metadata": {},
   "outputs": [],
   "source": [
    "# Read dataset\n",
    "df = pd.read_csv(\"HR_Data.csv\", header = 0)"
   ]
  },
  {
   "cell_type": "code",
   "execution_count": 24,
   "id": "9acf48c3",
   "metadata": {},
   "outputs": [],
   "source": [
    "df2 = pd.read_csv(\"HR_Data.csv\", header = 0)"
   ]
  },
  {
   "cell_type": "markdown",
   "id": "03e02136",
   "metadata": {},
   "source": [
    "### CHECK THE DATA DIMENSION ( COLUMNS , ROWS )"
   ]
  },
  {
   "cell_type": "code",
   "execution_count": 3,
   "id": "ab257250",
   "metadata": {
    "scrolled": true
   },
   "outputs": [
    {
     "data": {
      "text/plain": [
       "(19193, 14)"
      ]
     },
     "execution_count": 3,
     "metadata": {},
     "output_type": "execute_result"
    }
   ],
   "source": [
    "df.shape"
   ]
  },
  {
   "cell_type": "code",
   "execution_count": 4,
   "id": "b3c14f75",
   "metadata": {},
   "outputs": [
    {
     "data": {
      "text/html": [
       "<div>\n",
       "<style scoped>\n",
       "    .dataframe tbody tr th:only-of-type {\n",
       "        vertical-align: middle;\n",
       "    }\n",
       "\n",
       "    .dataframe tbody tr th {\n",
       "        vertical-align: top;\n",
       "    }\n",
       "\n",
       "    .dataframe thead th {\n",
       "        text-align: right;\n",
       "    }\n",
       "</style>\n",
       "<table border=\"1\" class=\"dataframe\">\n",
       "  <thead>\n",
       "    <tr style=\"text-align: right;\">\n",
       "      <th></th>\n",
       "      <th>enrollee_id</th>\n",
       "      <th>city</th>\n",
       "      <th>city_development_index</th>\n",
       "      <th>gender</th>\n",
       "      <th>relevant_experience</th>\n",
       "      <th>enrolled_university</th>\n",
       "      <th>education_level</th>\n",
       "      <th>major_discipline</th>\n",
       "      <th>experience</th>\n",
       "      <th>company_size</th>\n",
       "      <th>company_type</th>\n",
       "      <th>last_new_job</th>\n",
       "      <th>training_hours</th>\n",
       "      <th>JobChange</th>\n",
       "    </tr>\n",
       "  </thead>\n",
       "  <tbody>\n",
       "    <tr>\n",
       "      <th>0</th>\n",
       "      <td>8949</td>\n",
       "      <td>city_103</td>\n",
       "      <td>0.920</td>\n",
       "      <td>Male</td>\n",
       "      <td>Has relevant experience</td>\n",
       "      <td>no_enrollment</td>\n",
       "      <td>Graduate</td>\n",
       "      <td>STEM</td>\n",
       "      <td>&gt;20</td>\n",
       "      <td>NaN</td>\n",
       "      <td>NaN</td>\n",
       "      <td>1</td>\n",
       "      <td>36</td>\n",
       "      <td>1</td>\n",
       "    </tr>\n",
       "    <tr>\n",
       "      <th>1</th>\n",
       "      <td>29725</td>\n",
       "      <td>city_40</td>\n",
       "      <td>0.776</td>\n",
       "      <td>Male</td>\n",
       "      <td>No relevant experience</td>\n",
       "      <td>no_enrollment</td>\n",
       "      <td>Graduate</td>\n",
       "      <td>STEM</td>\n",
       "      <td>15</td>\n",
       "      <td>50-99</td>\n",
       "      <td>Pvt Ltd</td>\n",
       "      <td>&gt;4</td>\n",
       "      <td>47</td>\n",
       "      <td>0</td>\n",
       "    </tr>\n",
       "    <tr>\n",
       "      <th>2</th>\n",
       "      <td>11561</td>\n",
       "      <td>city_21</td>\n",
       "      <td>0.624</td>\n",
       "      <td>NaN</td>\n",
       "      <td>No relevant experience</td>\n",
       "      <td>Full time course</td>\n",
       "      <td>Graduate</td>\n",
       "      <td>STEM</td>\n",
       "      <td>5</td>\n",
       "      <td>NaN</td>\n",
       "      <td>NaN</td>\n",
       "      <td>never</td>\n",
       "      <td>83</td>\n",
       "      <td>0</td>\n",
       "    </tr>\n",
       "    <tr>\n",
       "      <th>3</th>\n",
       "      <td>33241</td>\n",
       "      <td>city_115</td>\n",
       "      <td>0.789</td>\n",
       "      <td>NaN</td>\n",
       "      <td>No relevant experience</td>\n",
       "      <td>NaN</td>\n",
       "      <td>Graduate</td>\n",
       "      <td>Business Degree</td>\n",
       "      <td>&lt;1</td>\n",
       "      <td>NaN</td>\n",
       "      <td>Pvt Ltd</td>\n",
       "      <td>never</td>\n",
       "      <td>52</td>\n",
       "      <td>1</td>\n",
       "    </tr>\n",
       "    <tr>\n",
       "      <th>4</th>\n",
       "      <td>666</td>\n",
       "      <td>city_162</td>\n",
       "      <td>0.767</td>\n",
       "      <td>Male</td>\n",
       "      <td>Has relevant experience</td>\n",
       "      <td>no_enrollment</td>\n",
       "      <td>Masters</td>\n",
       "      <td>STEM</td>\n",
       "      <td>&gt;20</td>\n",
       "      <td>50-99</td>\n",
       "      <td>Funded Startup</td>\n",
       "      <td>4</td>\n",
       "      <td>8</td>\n",
       "      <td>0</td>\n",
       "    </tr>\n",
       "  </tbody>\n",
       "</table>\n",
       "</div>"
      ],
      "text/plain": [
       "   enrollee_id      city  city_development_index gender  \\\n",
       "0         8949  city_103                   0.920   Male   \n",
       "1        29725   city_40                   0.776   Male   \n",
       "2        11561   city_21                   0.624    NaN   \n",
       "3        33241  city_115                   0.789    NaN   \n",
       "4          666  city_162                   0.767   Male   \n",
       "\n",
       "       relevant_experience enrolled_university education_level  \\\n",
       "0  Has relevant experience       no_enrollment        Graduate   \n",
       "1   No relevant experience       no_enrollment        Graduate   \n",
       "2   No relevant experience    Full time course        Graduate   \n",
       "3   No relevant experience                 NaN        Graduate   \n",
       "4  Has relevant experience       no_enrollment         Masters   \n",
       "\n",
       "  major_discipline experience company_size    company_type last_new_job  \\\n",
       "0             STEM        >20          NaN             NaN            1   \n",
       "1             STEM         15        50-99         Pvt Ltd           >4   \n",
       "2             STEM          5          NaN             NaN        never   \n",
       "3  Business Degree         <1          NaN         Pvt Ltd        never   \n",
       "4             STEM        >20        50-99  Funded Startup            4   \n",
       "\n",
       "   training_hours  JobChange  \n",
       "0              36          1  \n",
       "1              47          0  \n",
       "2              83          0  \n",
       "3              52          1  \n",
       "4               8          0  "
      ]
     },
     "execution_count": 4,
     "metadata": {},
     "output_type": "execute_result"
    }
   ],
   "source": [
    "df.head()"
   ]
  },
  {
   "cell_type": "markdown",
   "id": "9a20c455",
   "metadata": {},
   "source": [
    "### CHECK IF DATASET IS IMBALANCED\n",
    "\n",
    "-- Turns out the dataset is imbalanced"
   ]
  },
  {
   "cell_type": "code",
   "execution_count": 5,
   "id": "b6ad986e",
   "metadata": {
    "scrolled": true
   },
   "outputs": [
    {
     "data": {
      "text/plain": [
       "0    14402\n",
       "1     4791\n",
       "Name: JobChange, dtype: int64"
      ]
     },
     "execution_count": 5,
     "metadata": {},
     "output_type": "execute_result"
    }
   ],
   "source": [
    "df['JobChange'].value_counts()"
   ]
  },
  {
   "cell_type": "markdown",
   "id": "67fd1d9e",
   "metadata": {},
   "source": [
    "### DISPLAY FIRST FEW LINES FROM DATAFRAME"
   ]
  },
  {
   "cell_type": "code",
   "execution_count": 8,
   "id": "aa0e803c",
   "metadata": {},
   "outputs": [
    {
     "data": {
      "text/html": [
       "<div>\n",
       "<style scoped>\n",
       "    .dataframe tbody tr th:only-of-type {\n",
       "        vertical-align: middle;\n",
       "    }\n",
       "\n",
       "    .dataframe tbody tr th {\n",
       "        vertical-align: top;\n",
       "    }\n",
       "\n",
       "    .dataframe thead th {\n",
       "        text-align: right;\n",
       "    }\n",
       "</style>\n",
       "<table border=\"1\" class=\"dataframe\">\n",
       "  <thead>\n",
       "    <tr style=\"text-align: right;\">\n",
       "      <th></th>\n",
       "      <th>enrollee_id</th>\n",
       "      <th>city</th>\n",
       "      <th>city_development_index</th>\n",
       "      <th>gender</th>\n",
       "      <th>relevant_experience</th>\n",
       "      <th>enrolled_university</th>\n",
       "      <th>education_level</th>\n",
       "      <th>major_discipline</th>\n",
       "      <th>experience</th>\n",
       "      <th>company_size</th>\n",
       "      <th>company_type</th>\n",
       "      <th>last_new_job</th>\n",
       "      <th>training_hours</th>\n",
       "      <th>JobChange</th>\n",
       "    </tr>\n",
       "  </thead>\n",
       "  <tbody>\n",
       "    <tr>\n",
       "      <th>0</th>\n",
       "      <td>8949</td>\n",
       "      <td>city_103</td>\n",
       "      <td>0.920</td>\n",
       "      <td>Male</td>\n",
       "      <td>Has relevant experience</td>\n",
       "      <td>no_enrollment</td>\n",
       "      <td>Graduate</td>\n",
       "      <td>STEM</td>\n",
       "      <td>&gt;20</td>\n",
       "      <td>NaN</td>\n",
       "      <td>NaN</td>\n",
       "      <td>1</td>\n",
       "      <td>36</td>\n",
       "      <td>1</td>\n",
       "    </tr>\n",
       "    <tr>\n",
       "      <th>1</th>\n",
       "      <td>29725</td>\n",
       "      <td>city_40</td>\n",
       "      <td>0.776</td>\n",
       "      <td>Male</td>\n",
       "      <td>No relevant experience</td>\n",
       "      <td>no_enrollment</td>\n",
       "      <td>Graduate</td>\n",
       "      <td>STEM</td>\n",
       "      <td>15</td>\n",
       "      <td>50-99</td>\n",
       "      <td>Pvt Ltd</td>\n",
       "      <td>&gt;4</td>\n",
       "      <td>47</td>\n",
       "      <td>0</td>\n",
       "    </tr>\n",
       "    <tr>\n",
       "      <th>2</th>\n",
       "      <td>11561</td>\n",
       "      <td>city_21</td>\n",
       "      <td>0.624</td>\n",
       "      <td>NaN</td>\n",
       "      <td>No relevant experience</td>\n",
       "      <td>Full time course</td>\n",
       "      <td>Graduate</td>\n",
       "      <td>STEM</td>\n",
       "      <td>5</td>\n",
       "      <td>NaN</td>\n",
       "      <td>NaN</td>\n",
       "      <td>never</td>\n",
       "      <td>83</td>\n",
       "      <td>0</td>\n",
       "    </tr>\n",
       "  </tbody>\n",
       "</table>\n",
       "</div>"
      ],
      "text/plain": [
       "   enrollee_id      city  city_development_index gender  \\\n",
       "0         8949  city_103                   0.920   Male   \n",
       "1        29725   city_40                   0.776   Male   \n",
       "2        11561   city_21                   0.624    NaN   \n",
       "\n",
       "       relevant_experience enrolled_university education_level  \\\n",
       "0  Has relevant experience       no_enrollment        Graduate   \n",
       "1   No relevant experience       no_enrollment        Graduate   \n",
       "2   No relevant experience    Full time course        Graduate   \n",
       "\n",
       "  major_discipline experience company_size company_type last_new_job  \\\n",
       "0             STEM        >20          NaN          NaN            1   \n",
       "1             STEM         15        50-99      Pvt Ltd           >4   \n",
       "2             STEM          5          NaN          NaN        never   \n",
       "\n",
       "   training_hours  JobChange  \n",
       "0              36          1  \n",
       "1              47          0  \n",
       "2              83          0  "
      ]
     },
     "execution_count": 8,
     "metadata": {},
     "output_type": "execute_result"
    }
   ],
   "source": [
    "df.head(3)"
   ]
  },
  {
   "cell_type": "markdown",
   "id": "2f397015",
   "metadata": {},
   "source": [
    "### LOOK FOR NULL ( NaN ) VALUES IN DATASET"
   ]
  },
  {
   "cell_type": "code",
   "execution_count": 9,
   "id": "63e647e4",
   "metadata": {
    "scrolled": true
   },
   "outputs": [
    {
     "data": {
      "text/plain": [
       "enrollee_id                  0\n",
       "city                         0\n",
       "city_development_index       0\n",
       "gender                    4519\n",
       "relevant_experience          0\n",
       "enrolled_university        386\n",
       "education_level            462\n",
       "major_discipline          2817\n",
       "experience                  66\n",
       "company_size              5953\n",
       "company_type              6151\n",
       "last_new_job               424\n",
       "training_hours               0\n",
       "JobChange                    0\n",
       "dtype: int64"
      ]
     },
     "execution_count": 9,
     "metadata": {},
     "output_type": "execute_result"
    }
   ],
   "source": [
    "# Adding sum fuction to get the total number of null values in each column (attribute/feature/predictor)\n",
    "df.isnull().sum()"
   ]
  },
  {
   "cell_type": "markdown",
   "id": "a8fc00ad",
   "metadata": {},
   "source": [
    "## PRE PROCESSING ( CLEAN/ TRANSFORM DATA AS REQUIRED)"
   ]
  },
  {
   "cell_type": "code",
   "execution_count": 10,
   "id": "0876f95c",
   "metadata": {},
   "outputs": [
    {
     "name": "stdout",
     "output_type": "stream",
     "text": [
      "[nan '50-99' '<10' '10000+' '5000-9999' '1000-4999' 'Oct-49' '100-500'\n",
      " '500-999']\n",
      "['1' '>4' 'never' '4' '3' '2' nan]\n",
      "['>20' '15' '5' '<1' '11' '13' '7' '17' '2' '16' '1' '4' '10' '14' '18'\n",
      " '19' '12' '3' '6' '9' '8' '20' nan]\n"
     ]
    }
   ],
   "source": [
    "# Look for unique values in \"Company_size\" column\n",
    "print(df.company_size.unique())\n",
    "\n",
    "# Look for unique values in \"last_new_job\" column\n",
    "print(df.last_new_job.unique())\n",
    "\n",
    "# Look for unique values in \"experience\" column\n",
    "print(df.experience.unique())"
   ]
  },
  {
   "cell_type": "markdown",
   "id": "ecdb3b95",
   "metadata": {},
   "source": [
    "### Dropping Unwanted Columns\n",
    "##### Here enrollee_id and city"
   ]
  },
  {
   "cell_type": "code",
   "execution_count": 11,
   "id": "86737961",
   "metadata": {},
   "outputs": [],
   "source": [
    "df = df.drop(columns = ['enrollee_id','city'])"
   ]
  },
  {
   "cell_type": "markdown",
   "id": "28c04510",
   "metadata": {},
   "source": [
    "### LABEL ENCODING"
   ]
  },
  {
   "cell_type": "code",
   "execution_count": 12,
   "id": "d3a9bf3e",
   "metadata": {},
   "outputs": [],
   "source": [
    "# USE LABEL ENCODER\n",
    "# Label encoding as most columns are string\n",
    "from sklearn.preprocessing import LabelEncoder\n",
    "le = LabelEncoder()\n",
    "\n",
    "to_LabelEncode = df[['gender', 'relevant_experience',\n",
    "       'enrolled_university', 'education_level', 'major_discipline',\n",
    "       'experience', 'company_size', 'company_type', 'last_new_job']]\n",
    "\n",
    "df_temp = to_LabelEncode.astype(\"str\").apply(le.fit_transform)\n",
    "df_final = df_temp.where(~to_LabelEncode.isna(), to_LabelEncode)"
   ]
  },
  {
   "cell_type": "code",
   "execution_count": 13,
   "id": "f9ecad79",
   "metadata": {
    "scrolled": true
   },
   "outputs": [
    {
     "data": {
      "text/plain": [
       "city_development_index       0\n",
       "gender                    4519\n",
       "relevant_experience          0\n",
       "enrolled_university        386\n",
       "education_level            462\n",
       "major_discipline          2817\n",
       "experience                  66\n",
       "company_size              5953\n",
       "company_type              6151\n",
       "last_new_job               424\n",
       "training_hours               0\n",
       "JobChange                    0\n",
       "dtype: int64"
      ]
     },
     "execution_count": 13,
     "metadata": {},
     "output_type": "execute_result"
    }
   ],
   "source": [
    "# Look for null values and NaN values in dataset\n",
    "df.isnull().sum()"
   ]
  },
  {
   "cell_type": "code",
   "execution_count": 14,
   "id": "d90a9de9",
   "metadata": {},
   "outputs": [
    {
     "data": {
      "text/html": [
       "<div>\n",
       "<style scoped>\n",
       "    .dataframe tbody tr th:only-of-type {\n",
       "        vertical-align: middle;\n",
       "    }\n",
       "\n",
       "    .dataframe tbody tr th {\n",
       "        vertical-align: top;\n",
       "    }\n",
       "\n",
       "    .dataframe thead th {\n",
       "        text-align: right;\n",
       "    }\n",
       "</style>\n",
       "<table border=\"1\" class=\"dataframe\">\n",
       "  <thead>\n",
       "    <tr style=\"text-align: right;\">\n",
       "      <th></th>\n",
       "      <th>gender</th>\n",
       "      <th>relevant_experience</th>\n",
       "      <th>enrolled_university</th>\n",
       "      <th>education_level</th>\n",
       "      <th>major_discipline</th>\n",
       "      <th>experience</th>\n",
       "      <th>company_size</th>\n",
       "      <th>company_type</th>\n",
       "      <th>last_new_job</th>\n",
       "      <th>city_development_index</th>\n",
       "      <th>training_hours</th>\n",
       "      <th>JobChange</th>\n",
       "    </tr>\n",
       "  </thead>\n",
       "  <tbody>\n",
       "    <tr>\n",
       "      <th>0</th>\n",
       "      <td>1</td>\n",
       "      <td>0</td>\n",
       "      <td>3</td>\n",
       "      <td>0</td>\n",
       "      <td>5</td>\n",
       "      <td>21</td>\n",
       "      <td>NaN</td>\n",
       "      <td>NaN</td>\n",
       "      <td>0</td>\n",
       "      <td>0.920</td>\n",
       "      <td>36</td>\n",
       "      <td>1</td>\n",
       "    </tr>\n",
       "    <tr>\n",
       "      <th>1</th>\n",
       "      <td>1</td>\n",
       "      <td>1</td>\n",
       "      <td>3</td>\n",
       "      <td>0</td>\n",
       "      <td>5</td>\n",
       "      <td>6</td>\n",
       "      <td>3</td>\n",
       "      <td>5</td>\n",
       "      <td>4</td>\n",
       "      <td>0.776</td>\n",
       "      <td>47</td>\n",
       "      <td>0</td>\n",
       "    </tr>\n",
       "    <tr>\n",
       "      <th>2</th>\n",
       "      <td>NaN</td>\n",
       "      <td>1</td>\n",
       "      <td>0</td>\n",
       "      <td>0</td>\n",
       "      <td>5</td>\n",
       "      <td>15</td>\n",
       "      <td>NaN</td>\n",
       "      <td>NaN</td>\n",
       "      <td>6</td>\n",
       "      <td>0.624</td>\n",
       "      <td>83</td>\n",
       "      <td>0</td>\n",
       "    </tr>\n",
       "    <tr>\n",
       "      <th>3</th>\n",
       "      <td>NaN</td>\n",
       "      <td>1</td>\n",
       "      <td>NaN</td>\n",
       "      <td>0</td>\n",
       "      <td>1</td>\n",
       "      <td>20</td>\n",
       "      <td>NaN</td>\n",
       "      <td>5</td>\n",
       "      <td>6</td>\n",
       "      <td>0.789</td>\n",
       "      <td>52</td>\n",
       "      <td>1</td>\n",
       "    </tr>\n",
       "    <tr>\n",
       "      <th>4</th>\n",
       "      <td>1</td>\n",
       "      <td>0</td>\n",
       "      <td>3</td>\n",
       "      <td>2</td>\n",
       "      <td>5</td>\n",
       "      <td>21</td>\n",
       "      <td>3</td>\n",
       "      <td>1</td>\n",
       "      <td>3</td>\n",
       "      <td>0.767</td>\n",
       "      <td>8</td>\n",
       "      <td>0</td>\n",
       "    </tr>\n",
       "    <tr>\n",
       "      <th>...</th>\n",
       "      <td>...</td>\n",
       "      <td>...</td>\n",
       "      <td>...</td>\n",
       "      <td>...</td>\n",
       "      <td>...</td>\n",
       "      <td>...</td>\n",
       "      <td>...</td>\n",
       "      <td>...</td>\n",
       "      <td>...</td>\n",
       "      <td>...</td>\n",
       "      <td>...</td>\n",
       "      <td>...</td>\n",
       "    </tr>\n",
       "    <tr>\n",
       "      <th>19188</th>\n",
       "      <td>NaN</td>\n",
       "      <td>0</td>\n",
       "      <td>0</td>\n",
       "      <td>0</td>\n",
       "      <td>5</td>\n",
       "      <td>15</td>\n",
       "      <td>3</td>\n",
       "      <td>5</td>\n",
       "      <td>0</td>\n",
       "      <td>0.754</td>\n",
       "      <td>29</td>\n",
       "      <td>0</td>\n",
       "    </tr>\n",
       "    <tr>\n",
       "      <th>19189</th>\n",
       "      <td>1</td>\n",
       "      <td>0</td>\n",
       "      <td>3</td>\n",
       "      <td>0</td>\n",
       "      <td>5</td>\n",
       "      <td>15</td>\n",
       "      <td>NaN</td>\n",
       "      <td>NaN</td>\n",
       "      <td>0</td>\n",
       "      <td>0.920</td>\n",
       "      <td>10</td>\n",
       "      <td>1</td>\n",
       "    </tr>\n",
       "    <tr>\n",
       "      <th>19190</th>\n",
       "      <td>NaN</td>\n",
       "      <td>0</td>\n",
       "      <td>3</td>\n",
       "      <td>NaN</td>\n",
       "      <td>NaN</td>\n",
       "      <td>NaN</td>\n",
       "      <td>3</td>\n",
       "      <td>5</td>\n",
       "      <td>6</td>\n",
       "      <td>0.743</td>\n",
       "      <td>12</td>\n",
       "      <td>0</td>\n",
       "    </tr>\n",
       "    <tr>\n",
       "      <th>19191</th>\n",
       "      <td>1</td>\n",
       "      <td>0</td>\n",
       "      <td>3</td>\n",
       "      <td>0</td>\n",
       "      <td>5</td>\n",
       "      <td>17</td>\n",
       "      <td>2</td>\n",
       "      <td>5</td>\n",
       "      <td>3</td>\n",
       "      <td>0.624</td>\n",
       "      <td>43</td>\n",
       "      <td>1</td>\n",
       "    </tr>\n",
       "    <tr>\n",
       "      <th>19192</th>\n",
       "      <td>1</td>\n",
       "      <td>0</td>\n",
       "      <td>3</td>\n",
       "      <td>2</td>\n",
       "      <td>5</td>\n",
       "      <td>21</td>\n",
       "      <td>3</td>\n",
       "      <td>5</td>\n",
       "      <td>4</td>\n",
       "      <td>0.910</td>\n",
       "      <td>18</td>\n",
       "      <td>0</td>\n",
       "    </tr>\n",
       "  </tbody>\n",
       "</table>\n",
       "<p>19193 rows × 12 columns</p>\n",
       "</div>"
      ],
      "text/plain": [
       "      gender  relevant_experience enrolled_university education_level  \\\n",
       "0          1                    0                   3               0   \n",
       "1          1                    1                   3               0   \n",
       "2        NaN                    1                   0               0   \n",
       "3        NaN                    1                 NaN               0   \n",
       "4          1                    0                   3               2   \n",
       "...      ...                  ...                 ...             ...   \n",
       "19188    NaN                    0                   0               0   \n",
       "19189      1                    0                   3               0   \n",
       "19190    NaN                    0                   3             NaN   \n",
       "19191      1                    0                   3               0   \n",
       "19192      1                    0                   3               2   \n",
       "\n",
       "      major_discipline experience company_size company_type last_new_job  \\\n",
       "0                    5         21          NaN          NaN            0   \n",
       "1                    5          6            3            5            4   \n",
       "2                    5         15          NaN          NaN            6   \n",
       "3                    1         20          NaN            5            6   \n",
       "4                    5         21            3            1            3   \n",
       "...                ...        ...          ...          ...          ...   \n",
       "19188                5         15            3            5            0   \n",
       "19189                5         15          NaN          NaN            0   \n",
       "19190              NaN        NaN            3            5            6   \n",
       "19191                5         17            2            5            3   \n",
       "19192                5         21            3            5            4   \n",
       "\n",
       "       city_development_index  training_hours  JobChange  \n",
       "0                       0.920              36          1  \n",
       "1                       0.776              47          0  \n",
       "2                       0.624              83          0  \n",
       "3                       0.789              52          1  \n",
       "4                       0.767               8          0  \n",
       "...                       ...             ...        ...  \n",
       "19188                   0.754              29          0  \n",
       "19189                   0.920              10          1  \n",
       "19190                   0.743              12          0  \n",
       "19191                   0.624              43          1  \n",
       "19192                   0.910              18          0  \n",
       "\n",
       "[19193 rows x 12 columns]"
      ]
     },
     "execution_count": 14,
     "metadata": {},
     "output_type": "execute_result"
    }
   ],
   "source": [
    "df.drop(['gender', 'relevant_experience','enrolled_university', 'education_level', 'major_discipline','experience', 'company_size', 'company_type', 'last_new_job'],1,inplace=True)\n",
    "\n",
    "df = df_final.join(df)\n",
    "df"
   ]
  },
  {
   "cell_type": "markdown",
   "id": "87d8e435",
   "metadata": {},
   "source": [
    "## DATA ANALYSIS"
   ]
  },
  {
   "cell_type": "code",
   "execution_count": 15,
   "id": "548cb688",
   "metadata": {},
   "outputs": [
    {
     "data": {
      "text/html": [
       "<div>\n",
       "<style scoped>\n",
       "    .dataframe tbody tr th:only-of-type {\n",
       "        vertical-align: middle;\n",
       "    }\n",
       "\n",
       "    .dataframe tbody tr th {\n",
       "        vertical-align: top;\n",
       "    }\n",
       "\n",
       "    .dataframe thead th {\n",
       "        text-align: right;\n",
       "    }\n",
       "</style>\n",
       "<table border=\"1\" class=\"dataframe\">\n",
       "  <thead>\n",
       "    <tr style=\"text-align: right;\">\n",
       "      <th></th>\n",
       "      <th>relevant_experience</th>\n",
       "      <th>city_development_index</th>\n",
       "      <th>training_hours</th>\n",
       "      <th>JobChange</th>\n",
       "    </tr>\n",
       "  </thead>\n",
       "  <tbody>\n",
       "    <tr>\n",
       "      <th>count</th>\n",
       "      <td>19193.000000</td>\n",
       "      <td>19193.000000</td>\n",
       "      <td>19193.000000</td>\n",
       "      <td>19193.000000</td>\n",
       "    </tr>\n",
       "    <tr>\n",
       "      <th>mean</th>\n",
       "      <td>0.279946</td>\n",
       "      <td>0.828784</td>\n",
       "      <td>65.341062</td>\n",
       "      <td>0.249622</td>\n",
       "    </tr>\n",
       "    <tr>\n",
       "      <th>std</th>\n",
       "      <td>0.448984</td>\n",
       "      <td>0.123378</td>\n",
       "      <td>60.035849</td>\n",
       "      <td>0.432806</td>\n",
       "    </tr>\n",
       "    <tr>\n",
       "      <th>min</th>\n",
       "      <td>0.000000</td>\n",
       "      <td>0.448000</td>\n",
       "      <td>1.000000</td>\n",
       "      <td>0.000000</td>\n",
       "    </tr>\n",
       "    <tr>\n",
       "      <th>25%</th>\n",
       "      <td>0.000000</td>\n",
       "      <td>0.740000</td>\n",
       "      <td>23.000000</td>\n",
       "      <td>0.000000</td>\n",
       "    </tr>\n",
       "    <tr>\n",
       "      <th>50%</th>\n",
       "      <td>0.000000</td>\n",
       "      <td>0.903000</td>\n",
       "      <td>47.000000</td>\n",
       "      <td>0.000000</td>\n",
       "    </tr>\n",
       "    <tr>\n",
       "      <th>75%</th>\n",
       "      <td>1.000000</td>\n",
       "      <td>0.920000</td>\n",
       "      <td>88.000000</td>\n",
       "      <td>0.000000</td>\n",
       "    </tr>\n",
       "    <tr>\n",
       "      <th>max</th>\n",
       "      <td>1.000000</td>\n",
       "      <td>0.949000</td>\n",
       "      <td>336.000000</td>\n",
       "      <td>1.000000</td>\n",
       "    </tr>\n",
       "  </tbody>\n",
       "</table>\n",
       "</div>"
      ],
      "text/plain": [
       "       relevant_experience  city_development_index  training_hours  \\\n",
       "count         19193.000000            19193.000000    19193.000000   \n",
       "mean              0.279946                0.828784       65.341062   \n",
       "std               0.448984                0.123378       60.035849   \n",
       "min               0.000000                0.448000        1.000000   \n",
       "25%               0.000000                0.740000       23.000000   \n",
       "50%               0.000000                0.903000       47.000000   \n",
       "75%               1.000000                0.920000       88.000000   \n",
       "max               1.000000                0.949000      336.000000   \n",
       "\n",
       "          JobChange  \n",
       "count  19193.000000  \n",
       "mean       0.249622  \n",
       "std        0.432806  \n",
       "min        0.000000  \n",
       "25%        0.000000  \n",
       "50%        0.000000  \n",
       "75%        0.000000  \n",
       "max        1.000000  "
      ]
     },
     "execution_count": 15,
     "metadata": {},
     "output_type": "execute_result"
    }
   ],
   "source": [
    "df.describe()"
   ]
  },
  {
   "cell_type": "code",
   "execution_count": 16,
   "id": "798a24f0",
   "metadata": {},
   "outputs": [
    {
     "data": {
      "text/plain": [
       "gender                    14674\n",
       "relevant_experience       19193\n",
       "enrolled_university       18807\n",
       "education_level           18731\n",
       "major_discipline          16376\n",
       "experience                19127\n",
       "company_size              13240\n",
       "company_type              13042\n",
       "last_new_job              18769\n",
       "city_development_index    19193\n",
       "training_hours            19193\n",
       "JobChange                 19193\n",
       "dtype: int64"
      ]
     },
     "execution_count": 16,
     "metadata": {},
     "output_type": "execute_result"
    }
   ],
   "source": [
    "# Check remaining count\n",
    "df.count()"
   ]
  },
  {
   "cell_type": "markdown",
   "id": "1e92360f",
   "metadata": {},
   "source": [
    "## IMPUTATION"
   ]
  },
  {
   "cell_type": "code",
   "execution_count": 17,
   "id": "d853d63d",
   "metadata": {},
   "outputs": [],
   "source": [
    "from sklearn.experimental import enable_iterative_imputer"
   ]
  },
  {
   "cell_type": "code",
   "execution_count": 18,
   "id": "68b2cf33",
   "metadata": {
    "scrolled": false
   },
   "outputs": [
    {
     "name": "stderr",
     "output_type": "stream",
     "text": [
      "C:\\Users\\nidhi\\anaconda3\\lib\\site-packages\\sklearn\\impute\\_iterative.py:685: ConvergenceWarning: [IterativeImputer] Early stopping criterion not reached.\n",
      "  warnings.warn(\"[IterativeImputer] Early stopping criterion not\"\n"
     ]
    },
    {
     "data": {
      "text/html": [
       "<div>\n",
       "<style scoped>\n",
       "    .dataframe tbody tr th:only-of-type {\n",
       "        vertical-align: middle;\n",
       "    }\n",
       "\n",
       "    .dataframe tbody tr th {\n",
       "        vertical-align: top;\n",
       "    }\n",
       "\n",
       "    .dataframe thead th {\n",
       "        text-align: right;\n",
       "    }\n",
       "</style>\n",
       "<table border=\"1\" class=\"dataframe\">\n",
       "  <thead>\n",
       "    <tr style=\"text-align: right;\">\n",
       "      <th></th>\n",
       "      <th>gender</th>\n",
       "      <th>relevant_experience</th>\n",
       "      <th>enrolled_university</th>\n",
       "      <th>education_level</th>\n",
       "      <th>major_discipline</th>\n",
       "      <th>experience</th>\n",
       "      <th>company_size</th>\n",
       "      <th>company_type</th>\n",
       "      <th>last_new_job</th>\n",
       "      <th>city_development_index</th>\n",
       "      <th>training_hours</th>\n",
       "      <th>target</th>\n",
       "    </tr>\n",
       "  </thead>\n",
       "  <tbody>\n",
       "    <tr>\n",
       "      <th>0</th>\n",
       "      <td>1.000000</td>\n",
       "      <td>0.0</td>\n",
       "      <td>3.000000</td>\n",
       "      <td>0.000000</td>\n",
       "      <td>5.000000</td>\n",
       "      <td>21.000000</td>\n",
       "      <td>2.936440</td>\n",
       "      <td>4.275115</td>\n",
       "      <td>0.0</td>\n",
       "      <td>0.920</td>\n",
       "      <td>36.0</td>\n",
       "      <td>1.0</td>\n",
       "    </tr>\n",
       "    <tr>\n",
       "      <th>1</th>\n",
       "      <td>1.000000</td>\n",
       "      <td>1.0</td>\n",
       "      <td>3.000000</td>\n",
       "      <td>0.000000</td>\n",
       "      <td>5.000000</td>\n",
       "      <td>6.000000</td>\n",
       "      <td>3.000000</td>\n",
       "      <td>5.000000</td>\n",
       "      <td>4.0</td>\n",
       "      <td>0.776</td>\n",
       "      <td>47.0</td>\n",
       "      <td>0.0</td>\n",
       "    </tr>\n",
       "    <tr>\n",
       "      <th>2</th>\n",
       "      <td>0.932005</td>\n",
       "      <td>1.0</td>\n",
       "      <td>0.000000</td>\n",
       "      <td>0.000000</td>\n",
       "      <td>5.000000</td>\n",
       "      <td>15.000000</td>\n",
       "      <td>2.954278</td>\n",
       "      <td>4.135831</td>\n",
       "      <td>6.0</td>\n",
       "      <td>0.624</td>\n",
       "      <td>83.0</td>\n",
       "      <td>0.0</td>\n",
       "    </tr>\n",
       "    <tr>\n",
       "      <th>3</th>\n",
       "      <td>0.854382</td>\n",
       "      <td>1.0</td>\n",
       "      <td>1.992016</td>\n",
       "      <td>0.000000</td>\n",
       "      <td>1.000000</td>\n",
       "      <td>20.000000</td>\n",
       "      <td>2.705553</td>\n",
       "      <td>5.000000</td>\n",
       "      <td>6.0</td>\n",
       "      <td>0.789</td>\n",
       "      <td>52.0</td>\n",
       "      <td>1.0</td>\n",
       "    </tr>\n",
       "    <tr>\n",
       "      <th>4</th>\n",
       "      <td>1.000000</td>\n",
       "      <td>0.0</td>\n",
       "      <td>3.000000</td>\n",
       "      <td>2.000000</td>\n",
       "      <td>5.000000</td>\n",
       "      <td>21.000000</td>\n",
       "      <td>3.000000</td>\n",
       "      <td>1.000000</td>\n",
       "      <td>3.0</td>\n",
       "      <td>0.767</td>\n",
       "      <td>8.0</td>\n",
       "      <td>0.0</td>\n",
       "    </tr>\n",
       "    <tr>\n",
       "      <th>...</th>\n",
       "      <td>...</td>\n",
       "      <td>...</td>\n",
       "      <td>...</td>\n",
       "      <td>...</td>\n",
       "      <td>...</td>\n",
       "      <td>...</td>\n",
       "      <td>...</td>\n",
       "      <td>...</td>\n",
       "      <td>...</td>\n",
       "      <td>...</td>\n",
       "      <td>...</td>\n",
       "      <td>...</td>\n",
       "    </tr>\n",
       "    <tr>\n",
       "      <th>19188</th>\n",
       "      <td>0.936150</td>\n",
       "      <td>0.0</td>\n",
       "      <td>0.000000</td>\n",
       "      <td>0.000000</td>\n",
       "      <td>5.000000</td>\n",
       "      <td>15.000000</td>\n",
       "      <td>3.000000</td>\n",
       "      <td>5.000000</td>\n",
       "      <td>0.0</td>\n",
       "      <td>0.754</td>\n",
       "      <td>29.0</td>\n",
       "      <td>0.0</td>\n",
       "    </tr>\n",
       "    <tr>\n",
       "      <th>19189</th>\n",
       "      <td>1.000000</td>\n",
       "      <td>0.0</td>\n",
       "      <td>3.000000</td>\n",
       "      <td>0.000000</td>\n",
       "      <td>5.000000</td>\n",
       "      <td>15.000000</td>\n",
       "      <td>2.926839</td>\n",
       "      <td>4.276441</td>\n",
       "      <td>0.0</td>\n",
       "      <td>0.920</td>\n",
       "      <td>10.0</td>\n",
       "      <td>1.0</td>\n",
       "    </tr>\n",
       "    <tr>\n",
       "      <th>19190</th>\n",
       "      <td>0.931689</td>\n",
       "      <td>0.0</td>\n",
       "      <td>3.000000</td>\n",
       "      <td>0.706492</td>\n",
       "      <td>4.710682</td>\n",
       "      <td>12.710373</td>\n",
       "      <td>3.000000</td>\n",
       "      <td>5.000000</td>\n",
       "      <td>6.0</td>\n",
       "      <td>0.743</td>\n",
       "      <td>12.0</td>\n",
       "      <td>0.0</td>\n",
       "    </tr>\n",
       "    <tr>\n",
       "      <th>19191</th>\n",
       "      <td>1.000000</td>\n",
       "      <td>0.0</td>\n",
       "      <td>3.000000</td>\n",
       "      <td>0.000000</td>\n",
       "      <td>5.000000</td>\n",
       "      <td>17.000000</td>\n",
       "      <td>2.000000</td>\n",
       "      <td>5.000000</td>\n",
       "      <td>3.0</td>\n",
       "      <td>0.624</td>\n",
       "      <td>43.0</td>\n",
       "      <td>1.0</td>\n",
       "    </tr>\n",
       "    <tr>\n",
       "      <th>19192</th>\n",
       "      <td>1.000000</td>\n",
       "      <td>0.0</td>\n",
       "      <td>3.000000</td>\n",
       "      <td>2.000000</td>\n",
       "      <td>5.000000</td>\n",
       "      <td>21.000000</td>\n",
       "      <td>3.000000</td>\n",
       "      <td>5.000000</td>\n",
       "      <td>4.0</td>\n",
       "      <td>0.910</td>\n",
       "      <td>18.0</td>\n",
       "      <td>0.0</td>\n",
       "    </tr>\n",
       "  </tbody>\n",
       "</table>\n",
       "<p>19193 rows × 12 columns</p>\n",
       "</div>"
      ],
      "text/plain": [
       "         gender  relevant_experience  enrolled_university  education_level  \\\n",
       "0      1.000000                  0.0             3.000000         0.000000   \n",
       "1      1.000000                  1.0             3.000000         0.000000   \n",
       "2      0.932005                  1.0             0.000000         0.000000   \n",
       "3      0.854382                  1.0             1.992016         0.000000   \n",
       "4      1.000000                  0.0             3.000000         2.000000   \n",
       "...         ...                  ...                  ...              ...   \n",
       "19188  0.936150                  0.0             0.000000         0.000000   \n",
       "19189  1.000000                  0.0             3.000000         0.000000   \n",
       "19190  0.931689                  0.0             3.000000         0.706492   \n",
       "19191  1.000000                  0.0             3.000000         0.000000   \n",
       "19192  1.000000                  0.0             3.000000         2.000000   \n",
       "\n",
       "       major_discipline  experience  company_size  company_type  last_new_job  \\\n",
       "0              5.000000   21.000000      2.936440      4.275115           0.0   \n",
       "1              5.000000    6.000000      3.000000      5.000000           4.0   \n",
       "2              5.000000   15.000000      2.954278      4.135831           6.0   \n",
       "3              1.000000   20.000000      2.705553      5.000000           6.0   \n",
       "4              5.000000   21.000000      3.000000      1.000000           3.0   \n",
       "...                 ...         ...           ...           ...           ...   \n",
       "19188          5.000000   15.000000      3.000000      5.000000           0.0   \n",
       "19189          5.000000   15.000000      2.926839      4.276441           0.0   \n",
       "19190          4.710682   12.710373      3.000000      5.000000           6.0   \n",
       "19191          5.000000   17.000000      2.000000      5.000000           3.0   \n",
       "19192          5.000000   21.000000      3.000000      5.000000           4.0   \n",
       "\n",
       "       city_development_index  training_hours  target  \n",
       "0                       0.920            36.0     1.0  \n",
       "1                       0.776            47.0     0.0  \n",
       "2                       0.624            83.0     0.0  \n",
       "3                       0.789            52.0     1.0  \n",
       "4                       0.767             8.0     0.0  \n",
       "...                       ...             ...     ...  \n",
       "19188                   0.754            29.0     0.0  \n",
       "19189                   0.920            10.0     1.0  \n",
       "19190                   0.743            12.0     0.0  \n",
       "19191                   0.624            43.0     1.0  \n",
       "19192                   0.910            18.0     0.0  \n",
       "\n",
       "[19193 rows x 12 columns]"
      ]
     },
     "execution_count": 18,
     "metadata": {},
     "output_type": "execute_result"
    }
   ],
   "source": [
    "from sklearn.linear_model import LinearRegression\n",
    "from sklearn.impute import IterativeImputer\n",
    "lr = LinearRegression()\n",
    "mice_imputer = IterativeImputer(random_state=42, estimator=lr, max_iter=10, n_nearest_features=2, imputation_order = 'roman')\n",
    "train_final_df = mice_imputer.fit_transform(df)\n",
    "\n",
    "train_final_df = pd.DataFrame(train_final_df)\n",
    "train_final_df.columns = ['gender', 'relevant_experience', 'enrolled_university', 'education_level', 'major_discipline',\n",
    "                                                         'experience', 'company_size', 'company_type', 'last_new_job', 'city_development_index', 'training_hours', 'target']\n",
    "                                                        \n",
    "train_final_df"
   ]
  },
  {
   "cell_type": "markdown",
   "id": "3ccd93c3",
   "metadata": {},
   "source": [
    "## Exploratory Data Analysis - 1 with respect to education level "
   ]
  },
  {
   "cell_type": "code",
   "execution_count": 25,
   "id": "3f838a69",
   "metadata": {},
   "outputs": [
    {
     "data": {
      "image/png": "[encoded data removed]",
      "text/plain": [
       "<Figure size 1080x1224 with 7 Axes>"
      ]
     },
     "metadata": {
      "needs_background": "light"
     },
     "output_type": "display_data"
    }
   ],
   "source": [
    "\n",
    "import matplotlib.pyplot as plt\n",
    "import seaborn as sns\n",
    "#Countplots showing the frequency of each category with respect to education level \n",
    "plt.figure(figsize=[15,17])\n",
    "plot=[\"relevant_experience\", \"education_level\",\"major_discipline\", \"experience\",\"company_size\",\"company_type\", \"JobChange\"]\n",
    "n=1\n",
    "for f in plot:\n",
    "    plt.subplot(4,2,n)\n",
    "    sns.countplot(x=f, hue='education_level', edgecolor=\"black\", alpha=0.7, data=df2)\n",
    "    sns.despine()\n",
    "    plt.title(\"Countplot of {}  by education_level\".format(f))\n",
    "    n=n+1\n",
    "plt.tight_layout()\n",
    "plt.show()"
   ]
  },
  {
   "cell_type": "markdown",
   "id": "a4822c2d",
   "metadata": {},
   "source": [
    "## Exploratory Data Analysis - 2 with respect to Job Change"
   ]
  },
  {
   "cell_type": "code",
   "execution_count": 26,
   "id": "9af4563f",
   "metadata": {},
   "outputs": [
    {
     "data": {
      "image/png": "[encoded data removed]",
      "text/plain": [
       "<Figure size 1080x1224 with 6 Axes>"
      ]
     },
     "metadata": {
      "needs_background": "light"
     },
     "output_type": "display_data"
    }
   ],
   "source": [
    "# Exploratory Data Analysis - 2\n",
    "import matplotlib.pyplot as plt\n",
    "import seaborn as sns\n",
    "#Countplots showing the frequency of each category with respect to JobChange\n",
    "plt.figure(figsize=[15,17])\n",
    "plot=[ \"education_level\",\"major_discipline\", \"gender\",\"relevant_experience\",\"company_type\", \"JobChange\"]\n",
    "n=1\n",
    "for f in plot:\n",
    "    plt.subplot(4,2,n)\n",
    "    sns.countplot(x=f, hue='JobChange', edgecolor=\"black\", alpha=0.7, data=df)\n",
    "    #sns.despine()\n",
    "    plt.title(\"Countplot of {}  by JobChange\".format(f))\n",
    "    n=n+1\n",
    "plt.tight_layout()\n",
    "plt.show()"
   ]
  },
  {
   "cell_type": "markdown",
   "id": "667b9f28",
   "metadata": {},
   "source": [
    "## Train Test Split"
   ]
  },
  {
   "cell_type": "code",
   "execution_count": 27,
   "id": "68fa7a0e",
   "metadata": {},
   "outputs": [
    {
     "data": {
      "text/html": [
       "<div>\n",
       "<style scoped>\n",
       "    .dataframe tbody tr th:only-of-type {\n",
       "        vertical-align: middle;\n",
       "    }\n",
       "\n",
       "    .dataframe tbody tr th {\n",
       "        vertical-align: top;\n",
       "    }\n",
       "\n",
       "    .dataframe thead th {\n",
       "        text-align: right;\n",
       "    }\n",
       "</style>\n",
       "<table border=\"1\" class=\"dataframe\">\n",
       "  <thead>\n",
       "    <tr style=\"text-align: right;\">\n",
       "      <th></th>\n",
       "      <th>gender</th>\n",
       "      <th>relevant_experience</th>\n",
       "      <th>enrolled_university</th>\n",
       "      <th>education_level</th>\n",
       "      <th>major_discipline</th>\n",
       "      <th>experience</th>\n",
       "      <th>company_size</th>\n",
       "      <th>company_type</th>\n",
       "      <th>last_new_job</th>\n",
       "      <th>city_development_index</th>\n",
       "      <th>training_hours</th>\n",
       "      <th>target</th>\n",
       "    </tr>\n",
       "  </thead>\n",
       "  <tbody>\n",
       "    <tr>\n",
       "      <th>0</th>\n",
       "      <td>1.000000</td>\n",
       "      <td>0.0</td>\n",
       "      <td>3.000000</td>\n",
       "      <td>0.0</td>\n",
       "      <td>5.0</td>\n",
       "      <td>21.0</td>\n",
       "      <td>2.936440</td>\n",
       "      <td>4.275115</td>\n",
       "      <td>0.0</td>\n",
       "      <td>0.920</td>\n",
       "      <td>36.0</td>\n",
       "      <td>1.0</td>\n",
       "    </tr>\n",
       "    <tr>\n",
       "      <th>1</th>\n",
       "      <td>1.000000</td>\n",
       "      <td>1.0</td>\n",
       "      <td>3.000000</td>\n",
       "      <td>0.0</td>\n",
       "      <td>5.0</td>\n",
       "      <td>6.0</td>\n",
       "      <td>3.000000</td>\n",
       "      <td>5.000000</td>\n",
       "      <td>4.0</td>\n",
       "      <td>0.776</td>\n",
       "      <td>47.0</td>\n",
       "      <td>0.0</td>\n",
       "    </tr>\n",
       "    <tr>\n",
       "      <th>2</th>\n",
       "      <td>0.932005</td>\n",
       "      <td>1.0</td>\n",
       "      <td>0.000000</td>\n",
       "      <td>0.0</td>\n",
       "      <td>5.0</td>\n",
       "      <td>15.0</td>\n",
       "      <td>2.954278</td>\n",
       "      <td>4.135831</td>\n",
       "      <td>6.0</td>\n",
       "      <td>0.624</td>\n",
       "      <td>83.0</td>\n",
       "      <td>0.0</td>\n",
       "    </tr>\n",
       "    <tr>\n",
       "      <th>3</th>\n",
       "      <td>0.854382</td>\n",
       "      <td>1.0</td>\n",
       "      <td>1.992016</td>\n",
       "      <td>0.0</td>\n",
       "      <td>1.0</td>\n",
       "      <td>20.0</td>\n",
       "      <td>2.705553</td>\n",
       "      <td>5.000000</td>\n",
       "      <td>6.0</td>\n",
       "      <td>0.789</td>\n",
       "      <td>52.0</td>\n",
       "      <td>1.0</td>\n",
       "    </tr>\n",
       "    <tr>\n",
       "      <th>4</th>\n",
       "      <td>1.000000</td>\n",
       "      <td>0.0</td>\n",
       "      <td>3.000000</td>\n",
       "      <td>2.0</td>\n",
       "      <td>5.0</td>\n",
       "      <td>21.0</td>\n",
       "      <td>3.000000</td>\n",
       "      <td>1.000000</td>\n",
       "      <td>3.0</td>\n",
       "      <td>0.767</td>\n",
       "      <td>8.0</td>\n",
       "      <td>0.0</td>\n",
       "    </tr>\n",
       "  </tbody>\n",
       "</table>\n",
       "</div>"
      ],
      "text/plain": [
       "     gender  relevant_experience  enrolled_university  education_level  \\\n",
       "0  1.000000                  0.0             3.000000              0.0   \n",
       "1  1.000000                  1.0             3.000000              0.0   \n",
       "2  0.932005                  1.0             0.000000              0.0   \n",
       "3  0.854382                  1.0             1.992016              0.0   \n",
       "4  1.000000                  0.0             3.000000              2.0   \n",
       "\n",
       "   major_discipline  experience  company_size  company_type  last_new_job  \\\n",
       "0               5.0        21.0      2.936440      4.275115           0.0   \n",
       "1               5.0         6.0      3.000000      5.000000           4.0   \n",
       "2               5.0        15.0      2.954278      4.135831           6.0   \n",
       "3               1.0        20.0      2.705553      5.000000           6.0   \n",
       "4               5.0        21.0      3.000000      1.000000           3.0   \n",
       "\n",
       "   city_development_index  training_hours  target  \n",
       "0                   0.920            36.0     1.0  \n",
       "1                   0.776            47.0     0.0  \n",
       "2                   0.624            83.0     0.0  \n",
       "3                   0.789            52.0     1.0  \n",
       "4                   0.767             8.0     0.0  "
      ]
     },
     "execution_count": 27,
     "metadata": {},
     "output_type": "execute_result"
    }
   ],
   "source": [
    "train_final_df.head()"
   ]
  },
  {
   "cell_type": "code",
   "execution_count": 28,
   "id": "1734f2fc",
   "metadata": {},
   "outputs": [
    {
     "name": "stdout",
     "output_type": "stream",
     "text": [
      "[0. 1.]\n",
      "[0. 1.]\n"
     ]
    }
   ],
   "source": [
    "from sklearn.model_selection import train_test_split\n",
    "from imblearn.over_sampling import SMOTE\n",
    "from imblearn.under_sampling import NearMiss\n",
    "\n",
    "cols =  ['city_development_index', 'gender','company_type','major_discipline',\\\n",
    "         'last_new_job','training_hours','relevant_experience','experience','company_size']\n",
    "X = train_final_df[cols]\n",
    "y = train_final_df['target']\n",
    "# undersample = NearMiss(version = 1)\n",
    "# sm = SMOTE(sampling_strategy='not majority')\n",
    "# X, y = sm.fit_resample(X, y)\n",
    "\n",
    "\n",
    "X_train, X_test, y_train, y_test = \\\n",
    "    train_test_split(X,y, test_size=0.20, random_state=35)\n",
    "print(y_test.unique())\n",
    "print(y_train.unique())"
   ]
  },
  {
   "cell_type": "markdown",
   "id": "9ecf109c",
   "metadata": {},
   "source": [
    "## SCALING"
   ]
  },
  {
   "cell_type": "code",
   "execution_count": 29,
   "id": "c685dd9a",
   "metadata": {},
   "outputs": [],
   "source": [
    "from sklearn.preprocessing import StandardScaler\n",
    "sc = StandardScaler()\n",
    "X_train = sc.fit_transform(X_train)\n",
    "X_test = sc.transform(X_test)"
   ]
  },
  {
   "cell_type": "code",
   "execution_count": 30,
   "id": "004bc4a5",
   "metadata": {},
   "outputs": [],
   "source": [
    "from imblearn.over_sampling import SVMSMOTE\n",
    "from sklearn.model_selection import train_test_split as tts\n",
    "svm_smote = SVMSMOTE(sampling_strategy='minority', random_state=42, k_neighbors=5)\n",
    "X_svm_smote, y_svm_smote = svm_smote.fit_resample(X,y)\n",
    "\n",
    "X_train_svm, X_test_svm, y_train_svm, y_test_svm = tts(X_svm_smote,y_svm_smote, test_size=0.25, random_state=42)\n",
    "\n",
    "sc = StandardScaler()\n",
    "X_train_svm = sc.fit_transform(X_train_svm)\n",
    "X_test_svm = sc.transform(X_test_svm)"
   ]
  },
  {
   "cell_type": "markdown",
   "id": "6a89fde7",
   "metadata": {},
   "source": [
    "### Logistic Regression"
   ]
  },
  {
   "cell_type": "code",
   "execution_count": 31,
   "id": "8d4d2cfe",
   "metadata": {},
   "outputs": [
    {
     "name": "stdout",
     "output_type": "stream",
     "text": [
      "0.6928204416053326\n"
     ]
    }
   ],
   "source": [
    "from sklearn.linear_model import LogisticRegression\n",
    "from sklearn.metrics import accuracy_score\n",
    "lr = LogisticRegression()\n",
    "lr.fit(X_train_svm,y_train_svm)\n",
    "y_predict = lr.predict(X_test_svm)\n",
    "print(accuracy_score(y_test_svm,y_predict))"
   ]
  },
  {
   "cell_type": "code",
   "execution_count": 32,
   "id": "f78146e5",
   "metadata": {},
   "outputs": [],
   "source": [
    "from sklearn.metrics import classification_report"
   ]
  },
  {
   "cell_type": "code",
   "execution_count": 33,
   "id": "73a6b185",
   "metadata": {
    "scrolled": false
   },
   "outputs": [
    {
     "name": "stdout",
     "output_type": "stream",
     "text": [
      "              precision    recall  f1-score   support\n",
      "\n",
      "         0.0       0.69      0.71      0.70      3619\n",
      "         1.0       0.70      0.67      0.69      3582\n",
      "\n",
      "    accuracy                           0.69      7201\n",
      "   macro avg       0.69      0.69      0.69      7201\n",
      "weighted avg       0.69      0.69      0.69      7201\n",
      "\n"
     ]
    }
   ],
   "source": [
    "print(classification_report(y_test_svm,y_predict))"
   ]
  },
  {
   "cell_type": "markdown",
   "id": "41bdff06",
   "metadata": {},
   "source": [
    "### DECISION TREE CLASSIFIER"
   ]
  },
  {
   "cell_type": "code",
   "execution_count": 34,
   "id": "c6b9310a",
   "metadata": {
    "scrolled": true
   },
   "outputs": [
    {
     "name": "stdout",
     "output_type": "stream",
     "text": [
      "Accuracy: 0.7621163727260103\n"
     ]
    }
   ],
   "source": [
    "from sklearn.tree import DecisionTreeClassifier\n",
    "from sklearn import metrics\n",
    "\n",
    "# Create Decision Tree classifer object\n",
    "dt = DecisionTreeClassifier(max_depth = 5)\n",
    "\n",
    "# Train Decision Tree Classifer\n",
    "dt = dt.fit(X_train_svm,y_train_svm)\n",
    "\n",
    "#Predict the response for test dataset\n",
    "y_pred_dt = dt.predict(X_test_svm)\n",
    "\n",
    "# Model Accuracy\n",
    "print(\"Accuracy:\",metrics.accuracy_score(y_test_svm, y_pred_dt))"
   ]
  },
  {
   "cell_type": "code",
   "execution_count": 35,
   "id": "79be906f",
   "metadata": {},
   "outputs": [
    {
     "data": {
      "image/png": "[encoded data removed]",
      "text/plain": [
       "<Figure size 432x288 with 1 Axes>"
      ]
     },
     "metadata": {
      "needs_background": "light"
     },
     "output_type": "display_data"
    }
   ],
   "source": [
    "# Trying to find out optimal depth for tree\n",
    "\n",
    "import matplotlib.pyplot as plt\n",
    "neighbors = np.arange(1, 15)\n",
    "train_accuracy = np.empty(len(neighbors))\n",
    "test_accuracy = np.empty(len(neighbors))\n",
    " \n",
    "# Loop over K values\n",
    "for i, k in enumerate(neighbors):\n",
    "    dt = DecisionTreeClassifier(max_depth = k)\n",
    "    dt = dt.fit(X_train_svm,y_train_svm)\n",
    "    y_pred = dt.predict(X_test_svm)\n",
    "     \n",
    "    # test data accuracy\n",
    "    test_accuracy[i] = metrics.accuracy_score(y_test_svm, y_pred)\n",
    "    \n",
    " \n",
    "plt.plot(neighbors, test_accuracy, label = 'Testing dataset Accuracy')\n",
    "#plt.plot(neighbors, train_accuracy, label = 'Training dataset Accuracy')\n",
    " \n",
    "plt.legend()\n",
    "plt.xlabel('depth')\n",
    "plt.ylabel('Accuracy')\n",
    "plt.show()"
   ]
  },
  {
   "cell_type": "markdown",
   "id": "be52c36d",
   "metadata": {},
   "source": [
    "## Random Forest"
   ]
  },
  {
   "cell_type": "code",
   "execution_count": 36,
   "id": "3e59eaa7",
   "metadata": {},
   "outputs": [
    {
     "name": "stdout",
     "output_type": "stream",
     "text": [
      "0.8465490904041105\n"
     ]
    }
   ],
   "source": [
    "from sklearn.ensemble import RandomForestClassifier\n",
    "rf = RandomForestClassifier()\n",
    "\n",
    "rf.fit(X_train_svm,y_train_svm)\n",
    "y_predict_rf = rf.predict(X_test_svm)\n",
    "print(accuracy_score(y_test_svm,y_predict_rf))"
   ]
  },
  {
   "cell_type": "code",
   "execution_count": 76,
   "id": "898f51d5",
   "metadata": {
    "scrolled": true
   },
   "outputs": [
    {
     "name": "stdout",
     "output_type": "stream",
     "text": [
      "              precision    recall  f1-score   support\n",
      "\n",
      "           0       0.83      0.81      0.82      3619\n",
      "           1       0.82      0.84      0.83      3582\n",
      "\n",
      "    accuracy                           0.82      7201\n",
      "   macro avg       0.82      0.82      0.82      7201\n",
      "weighted avg       0.82      0.82      0.82      7201\n",
      "\n"
     ]
    }
   ],
   "source": [
    "print(classification_report(y_test_svm,y_predict_rf))"
   ]
  },
  {
   "cell_type": "code",
   "execution_count": 39,
   "id": "45edaf0d",
   "metadata": {},
   "outputs": [
    {
     "ename": "AttributeError",
     "evalue": "'numpy.ndarray' object has no attribute 'columns'",
     "output_type": "error",
     "traceback": [
      "\u001b[1;31m---------------------------------------------------------------------------\u001b[0m",
      "\u001b[1;31mAttributeError\u001b[0m                            Traceback (most recent call last)",
      "\u001b[1;32m<ipython-input-39-d1fba4b3ed9f>\u001b[0m in \u001b[0;36m<module>\u001b[1;34m\u001b[0m\n\u001b[1;32m----> 1\u001b[1;33m pd.DataFrame({'Variable':X_train.columns,\n\u001b[0m\u001b[0;32m      2\u001b[0m               'Importance':rf.feature_importances_}).sort_values('Importance', ascending=False)\n",
      "\u001b[1;31mAttributeError\u001b[0m: 'numpy.ndarray' object has no attribute 'columns'"
     ]
    }
   ],
   "source": [
    "pd.DataFrame({'Variable':X_train.columns,\n",
    "              'Importance':rf.feature_importances_}).sort_values('Importance', ascending=False)"
   ]
  },
  {
   "cell_type": "code",
   "execution_count": 46,
   "id": "f7862e96",
   "metadata": {},
   "outputs": [],
   "source": [
    "def evaluate(model, X_test, y_test):\n",
    "    y_pred = model.predict(X_test)\n",
    "    errors = abs(y_pred - y_test)\n",
    "    print('Average Error: {:0.4f} degrees.'.format(np.mean(errors)))\n",
    "    print(classification_report(y_test,y_pred))\n",
    "    return evaluate"
   ]
  },
  {
   "cell_type": "markdown",
   "id": "7370bb99",
   "metadata": {},
   "source": [
    "### LightGBM/Easy Ensemble Classifier"
   ]
  },
  {
   "cell_type": "code",
   "execution_count": 43,
   "id": "818ddac4",
   "metadata": {
    "scrolled": true
   },
   "outputs": [],
   "source": [
    "#pip install lightgbm"
   ]
  },
  {
   "cell_type": "code",
   "execution_count": 44,
   "id": "ebd96e65",
   "metadata": {},
   "outputs": [],
   "source": [
    "from lightgbm.sklearn import LGBMClassifier"
   ]
  },
  {
   "cell_type": "code",
   "execution_count": 49,
   "id": "3a2cf94d",
   "metadata": {},
   "outputs": [
    {
     "data": {
      "text/plain": [
       "EasyEnsembleClassifier(base_estimator=LGBMClassifier(random_state=42),\n",
       "                       n_estimators=250, n_jobs=1, random_state=42,\n",
       "                       replacement=True, warm_start=True)"
      ]
     },
     "execution_count": 49,
     "metadata": {},
     "output_type": "execute_result"
    }
   ],
   "source": [
    "from imblearn.ensemble import EasyEnsembleClassifier\n",
    "\n",
    "easy_lgbm = EasyEnsembleClassifier(base_estimator= LGBMClassifier(random_state=42), n_estimators=250, n_jobs=1,\n",
    "                       random_state=42, replacement=True,\n",
    "                       sampling_strategy='auto', verbose=0,\n",
    "                       warm_start=True)\n",
    "easy_lgbm.fit(X_train_svm, y_train_svm)"
   ]
  },
  {
   "cell_type": "markdown",
   "id": "6c55da89",
   "metadata": {},
   "source": [
    "#### Find Training Accuracy"
   ]
  },
  {
   "cell_type": "code",
   "execution_count": 48,
   "id": "071c4776",
   "metadata": {
    "scrolled": false
   },
   "outputs": [
    {
     "name": "stdout",
     "output_type": "stream",
     "text": [
      "              precision    recall  f1-score   support\n",
      "\n",
      "         0.0       0.88      0.88      0.88     10783\n",
      "         1.0       0.88      0.88      0.88     10820\n",
      "\n",
      "    accuracy                           0.88     21603\n",
      "   macro avg       0.88      0.88      0.88     21603\n",
      "weighted avg       0.88      0.88      0.88     21603\n",
      "\n"
     ]
    }
   ],
   "source": [
    "print(classification_report(y_train_svm,easy_lgbm.predict(X_train_svm)))"
   ]
  },
  {
   "cell_type": "markdown",
   "id": "247dd430",
   "metadata": {},
   "source": [
    "#### Test data Accuracy"
   ]
  },
  {
   "cell_type": "code",
   "execution_count": 67,
   "id": "fb9dd7c4",
   "metadata": {},
   "outputs": [
    {
     "name": "stdout",
     "output_type": "stream",
     "text": [
      "Average Error: 0.1419 degrees.\n",
      "              precision    recall  f1-score   support\n",
      "\n",
      "         0.0       0.86      0.85      0.86      3619\n",
      "         1.0       0.85      0.86      0.86      3582\n",
      "\n",
      "    accuracy                           0.86      7201\n",
      "   macro avg       0.86      0.86      0.86      7201\n",
      "weighted avg       0.86      0.86      0.86      7201\n",
      "\n"
     ]
    },
    {
     "data": {
      "text/plain": [
       "<function __main__.evaluate(model, X_test, y_test)>"
      ]
     },
     "execution_count": 67,
     "metadata": {},
     "output_type": "execute_result"
    }
   ],
   "source": [
    "evaluate(easy_lgbm, X_test_svm, y_test_svm)"
   ]
  },
  {
   "cell_type": "markdown",
   "id": "4de205ac",
   "metadata": {},
   "source": [
    "## KNN IMPLEMENTATION"
   ]
  },
  {
   "cell_type": "code",
   "execution_count": 55,
   "id": "e46c76f9",
   "metadata": {
    "scrolled": true
   },
   "outputs": [
    {
     "name": "stdout",
     "output_type": "stream",
     "text": [
      "0.7804471601166505\n"
     ]
    }
   ],
   "source": [
    "# Trying KNN with K = 3 ( just some K value) \n",
    "from sklearn.neighbors import KNeighborsClassifier\n",
    "knn = KNeighborsClassifier(n_neighbors=5)\n",
    "knn.fit(X_train_svm,y_train_svm)\n",
    "\n",
    "y_predict_knn = knn.predict(X_test_svm)\n",
    "\n",
    "# Find out prediction accuracy\n",
    "print(knn.score(X_test_svm, y_test_svm))"
   ]
  },
  {
   "cell_type": "code",
   "execution_count": 56,
   "id": "fd028634",
   "metadata": {
    "scrolled": true
   },
   "outputs": [
    {
     "data": {
      "text/html": [
       "<div>\n",
       "<style scoped>\n",
       "    .dataframe tbody tr th:only-of-type {\n",
       "        vertical-align: middle;\n",
       "    }\n",
       "\n",
       "    .dataframe tbody tr th {\n",
       "        vertical-align: top;\n",
       "    }\n",
       "\n",
       "    .dataframe thead th {\n",
       "        text-align: right;\n",
       "    }\n",
       "</style>\n",
       "<table border=\"1\" class=\"dataframe\">\n",
       "  <thead>\n",
       "    <tr style=\"text-align: right;\">\n",
       "      <th>col_0</th>\n",
       "      <th>0.0</th>\n",
       "      <th>1.0</th>\n",
       "    </tr>\n",
       "    <tr>\n",
       "      <th>target</th>\n",
       "      <th></th>\n",
       "      <th></th>\n",
       "    </tr>\n",
       "  </thead>\n",
       "  <tbody>\n",
       "    <tr>\n",
       "      <th>0.0</th>\n",
       "      <td>2735</td>\n",
       "      <td>884</td>\n",
       "    </tr>\n",
       "    <tr>\n",
       "      <th>1.0</th>\n",
       "      <td>697</td>\n",
       "      <td>2885</td>\n",
       "    </tr>\n",
       "  </tbody>\n",
       "</table>\n",
       "</div>"
      ],
      "text/plain": [
       "col_0    0.0   1.0\n",
       "target            \n",
       "0.0     2735   884\n",
       "1.0      697  2885"
      ]
     },
     "execution_count": 56,
     "metadata": {},
     "output_type": "execute_result"
    }
   ],
   "source": [
    "pd.crosstab(y_test_svm,y_predict_knn)"
   ]
  },
  {
   "cell_type": "code",
   "execution_count": 57,
   "id": "22d701c3",
   "metadata": {},
   "outputs": [
    {
     "name": "stdout",
     "output_type": "stream",
     "text": [
      "              precision    recall  f1-score   support\n",
      "\n",
      "         0.0       0.80      0.76      0.78      3619\n",
      "         1.0       0.77      0.81      0.78      3582\n",
      "\n",
      "    accuracy                           0.78      7201\n",
      "   macro avg       0.78      0.78      0.78      7201\n",
      "weighted avg       0.78      0.78      0.78      7201\n",
      "\n"
     ]
    }
   ],
   "source": [
    "print(classification_report(y_test_svm,y_predict_knn))"
   ]
  },
  {
   "cell_type": "code",
   "execution_count": 58,
   "id": "42679ce0",
   "metadata": {},
   "outputs": [
    {
     "data": {
      "image/png": "[encoded data removed]",
      "text/plain": [
       "<Figure size 432x288 with 1 Axes>"
      ]
     },
     "metadata": {
      "needs_background": "light"
     },
     "output_type": "display_data"
    }
   ],
   "source": [
    "# Trying to find out optimal value of K\n",
    "\n",
    "import matplotlib.pyplot as plt\n",
    "neighbors = np.arange(1, 10)\n",
    "train_accuracy = np.empty(len(neighbors))\n",
    "test_accuracy = np.empty(len(neighbors))\n",
    " \n",
    "# Loop over K values\n",
    "for i, k in enumerate(neighbors):\n",
    "    knn = KNeighborsClassifier(n_neighbors=k)\n",
    "    knn.fit(X_train_svm, y_train_svm)\n",
    "     \n",
    "    # Training and test data accuracy\n",
    "    train_accuracy[i] = knn.score(X_train_svm, y_train_svm)\n",
    "    test_accuracy[i] = knn.score(X_test_svm, y_test_svm)\n",
    " \n",
    "plt.plot(neighbors, test_accuracy, label = 'Testing dataset Accuracy')\n",
    "plt.plot(neighbors, train_accuracy, label = 'Training dataset Accuracy')\n",
    " \n",
    "plt.legend()\n",
    "plt.xlabel('n_neighbors')\n",
    "plt.ylabel('Accuracy')\n",
    "plt.show()"
   ]
  },
  {
   "cell_type": "code",
   "execution_count": 60,
   "id": "b7c83187",
   "metadata": {},
   "outputs": [
    {
     "name": "stdout",
     "output_type": "stream",
     "text": [
      "[0.13875851 0.02071934 0.06771282 0.01996945 0.04421608 0.02802389\n",
      " 0.05049299 0.0399389  0.05046521]\n",
      "Feature: 0, Score: 0.13876\n",
      "Feature: 1, Score: 0.02072\n",
      "Feature: 2, Score: 0.06771\n",
      "Feature: 3, Score: 0.01997\n",
      "Feature: 4, Score: 0.04422\n",
      "Feature: 5, Score: 0.02802\n",
      "Feature: 6, Score: 0.05049\n",
      "Feature: 7, Score: 0.03994\n",
      "Feature: 8, Score: 0.05047\n"
     ]
    }
   ],
   "source": [
    "from sklearn.inspection import permutation_importance\n",
    "# perform permutation importance\n",
    "results = permutation_importance(knn, X_test_svm, y_test_svm, scoring='accuracy')\n",
    "# get importance\n",
    "importance = results.importances_mean\n",
    "print(importance\n",
    "# summarize feature importance\n",
    "for i,v in enumerate(importance):\n",
    "    print('Feature: %0d, Score: %.5f' % (i,v))"
   ]
  },
  {
   "cell_type": "markdown",
   "id": "39e8f9e4",
   "metadata": {},
   "source": [
    "### CONCLUSION\n",
    "\n",
    "#### LighGBM Classifier performed best with f1-score of 86%"
   ]
  }
 ],
 "metadata": {
  "kernelspec": {
   "display_name": "Python 3",
   "language": "python",
   "name": "python3"
  },
  "language_info": {
   "codemirror_mode": {
    "name": "ipython",
    "version": 3
   },
   "file_extension": ".py",
   "mimetype": "text/x-python",
   "name": "python",
   "nbconvert_exporter": "python",
   "pygments_lexer": "ipython3",
   "version": "3.8.8"
  }
 },
 "nbformat": 4,
 "nbformat_minor": 5
}
